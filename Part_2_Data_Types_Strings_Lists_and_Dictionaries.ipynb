{
 "cells": [
  {
   "cell_type": "code",
   "execution_count": 72,
   "id": "9b13b103",
   "metadata": {},
   "outputs": [
    {
     "name": "stdout",
     "output_type": "stream",
     "text": [
      "Enter anything to check its datatype: adsads123\n",
      "The datatype of adsads123 is string\n"
     ]
    }
   ],
   "source": [
    "# Data identifier function\n",
    "def data_identifier(input1):\n",
    "    if input1.isnumeric() or (input1[0] == '-' and input1[1:].isnumeric()):\n",
    "        return 'integer'\n",
    "    try:\n",
    "        float_value = float(input1)\n",
    "        if '.' in input1:\n",
    "            return 'float'\n",
    "        else:\n",
    "            return 'integer'\n",
    "    except ValueError:\n",
    "        if input1.lower() == 'true' or input1.lower() == 'false':\n",
    "            return 'boolean'\n",
    "        return 'string'\n",
    "\n",
    "if __name__ == \"__main__\":\n",
    "    input1 = input('Enter anything to check its datatype: ')\n",
    "    res = data_identifier(input1)\n",
    "    print(f'The datatype of {input1} is {res}')\n"
   ]
  },
  {
   "cell_type": "code",
   "execution_count": 80,
   "id": "ebc5385d",
   "metadata": {},
   "outputs": [
    {
     "name": "stdout",
     "output_type": "stream",
     "text": [
      "Enter a string : hello how are you\n",
      "Inputted string is : hello how are you\n",
      "Reversed string is: uoy era woh olleh\n",
      "String with alternate uppercase letters is: hElLo hOw aRe yOu\n"
     ]
    }
   ],
   "source": [
    "#String Manipulator function\n",
    "def string_mainpulator():\n",
    "    str1 = input('Enter a string : ')\n",
    "    print(f'Inputted string is : {str1}')\n",
    "    rev_str = str1[::-1]\n",
    "    print(f'Reversed string is: {rev_str}')\n",
    "    mix = []\n",
    "    str2 = str1.lower()\n",
    "    for _ in range(len(str2)):\n",
    "        if _%2 ==0:\n",
    "            mix.append(str2[_])\n",
    "        else:\n",
    "            mix.append(str2[_].upper())\n",
    "    res = \"\".join(mix)\n",
    "    print(f'String with alternate uppercase letters is: {res}')\n",
    "\n",
    "if __name__ == '__main__':\n",
    "    string_mainpulator()"
   ]
  },
  {
   "cell_type": "code",
   "execution_count": 97,
   "id": "ba942b21",
   "metadata": {},
   "outputs": [
    {
     "name": "stdout",
     "output_type": "stream",
     "text": [
      "Enter country names :\n",
      "Australia India SouthAfrica\n",
      "Printing the country names and the length of the names:  \n",
      "{'Australia': 9, 'India': 5, 'SouthAfrica': 11}\n",
      "Sorting the dictionary based on length of the country name: \n",
      "{'India': 5, 'Australia': 9, 'SouthAfrica': 11}\n"
     ]
    }
   ],
   "source": [
    "#Dictonary with country names and length\n",
    "def country_length(country):\n",
    "    dict1 = {}\n",
    "    for i in country:\n",
    "        dict1[i] = len(i)\n",
    "    print('Printing the country names and the length of the names:  ')\n",
    "    print(dict1)\n",
    "    print('Sorting the dictionary based on length of the country name: ')\n",
    "    sorted_dict = {k: v for k, v in sorted(dict1.items(), key=lambda item: item[1])}\n",
    "    print(sorted_dict)\n",
    "\n",
    "if __name__ == \"__main__\":\n",
    "    print('Enter country names :')\n",
    "    countries = [x for x in input().split()]\n",
    "    res = country_length(countries)"
   ]
  },
  {
   "cell_type": "code",
   "execution_count": null,
   "id": "d096ad32",
   "metadata": {},
   "outputs": [],
   "source": []
  }
 ],
 "metadata": {
  "kernelspec": {
   "display_name": "Python 3",
   "language": "python",
   "name": "python3"
  },
  "language_info": {
   "codemirror_mode": {
    "name": "ipython",
    "version": 3
   },
   "file_extension": ".py",
   "mimetype": "text/x-python",
   "name": "python",
   "nbconvert_exporter": "python",
   "pygments_lexer": "ipython3",
   "version": "3.7.9"
  }
 },
 "nbformat": 4,
 "nbformat_minor": 5
}
