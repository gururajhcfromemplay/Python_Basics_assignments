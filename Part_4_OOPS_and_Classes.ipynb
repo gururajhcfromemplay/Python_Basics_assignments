{
 "cells": [
  {
   "cell_type": "code",
   "execution_count": 1,
   "id": "e5a7c0b9",
   "metadata": {},
   "outputs": [],
   "source": [
    "#Rectange class\n",
    "class Rectangle:\n",
    "    def __init__(self, length, width):\n",
    "        self.length = length\n",
    "        self.width = width\n",
    "\n",
    "    def area(self):\n",
    "        return self.length * self.width\n",
    "\n",
    "    def perimeter(self):\n",
    "        return 2 * (self.length + self.width)\n"
   ]
  },
  {
   "cell_type": "code",
   "execution_count": 2,
   "id": "ce5da80e",
   "metadata": {},
   "outputs": [
    {
     "name": "stdout",
     "output_type": "stream",
     "text": [
      "Area of the rectangle : 15\n",
      "Perimeter of the rectangle : 16\n"
     ]
    }
   ],
   "source": [
    "#Invoking the class\n",
    "rectangle_01 = Rectangle(5, 3)\n",
    "print(f\"Area of the rectangle : {rectangle_01.area()}\")\n",
    "print(f\"Perimeter of the rectangle : {rectangle_01.perimeter()}\")"
   ]
  },
  {
   "cell_type": "code",
   "execution_count": 3,
   "id": "87f36541",
   "metadata": {},
   "outputs": [],
   "source": [
    "#Square class\n",
    "class Square(Rectangle):\n",
    "    def __init__(self, side_length):\n",
    "        super().__init__(side_length, side_length)"
   ]
  },
  {
   "cell_type": "code",
   "execution_count": 4,
   "id": "66c43ed6",
   "metadata": {},
   "outputs": [
    {
     "name": "stdout",
     "output_type": "stream",
     "text": [
      "Area of the square : 16\n",
      "Perimeter of the square : 16\n"
     ]
    }
   ],
   "source": [
    "#Invoking the class\n",
    "square_01 = Square(4)  \n",
    "print(f\"Area of the square : {square_01.area()}\")\n",
    "print(f\"Perimeter of the square : {square_01.perimeter()}\")"
   ]
  }
 ],
 "metadata": {
  "kernelspec": {
   "display_name": "Python 3",
   "language": "python",
   "name": "python3"
  },
  "language_info": {
   "codemirror_mode": {
    "name": "ipython",
    "version": 3
   },
   "file_extension": ".py",
   "mimetype": "text/x-python",
   "name": "python",
   "nbconvert_exporter": "python",
   "pygments_lexer": "ipython3",
   "version": "3.7.9"
  }
 },
 "nbformat": 4,
 "nbformat_minor": 5
}
