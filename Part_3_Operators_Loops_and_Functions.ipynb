{
 "cells": [
  {
   "cell_type": "code",
   "execution_count": 3,
   "id": "d4f89c49",
   "metadata": {},
   "outputs": [
    {
     "name": "stdout",
     "output_type": "stream",
     "text": [
      "Enter a list of numbers to find the largest number among them: \n",
      "1 30 40 5000\n",
      "The largest number in the list of ['1', '30', '40', '5000'] is : 5000\n"
     ]
    }
   ],
   "source": [
    "#Finding greatest number\n",
    "def find_greatest(list1):\n",
    "    lar = list1[0]\n",
    "    for i in range(len(list1)):\n",
    "        if list1[i]>lar:\n",
    "            lar = list1[i]\n",
    "    return lar\n",
    "\n",
    "if __name__ == \"__main__\":\n",
    "    print('Enter a list of numbers to find the largest number among them: ')\n",
    "    list1 = [int(x) for x in input().split()]\n",
    "    res = find_greatest(list1)\n",
    "    print(f'The largest number in the list of {list1} is : {res}')"
   ]
  },
  {
   "cell_type": "code",
   "execution_count": null,
   "id": "d8736661",
   "metadata": {},
   "outputs": [],
   "source": [
    "#ALTERNATE METHOD"
   ]
  },
  {
   "cell_type": "code",
   "execution_count": 8,
   "id": "747961f7",
   "metadata": {},
   "outputs": [
    {
     "name": "stdout",
     "output_type": "stream",
     "text": [
      "Enter a list of numbers to find the largest number among them: \n",
      "1 5 100 1001\n",
      "[1, 5, 100, 1001]\n",
      "The largest number in the list of [1, 5, 100, 1001] is : 1001\n"
     ]
    }
   ],
   "source": [
    "#Finding greatest number\n",
    "def find_greatest(list1):\n",
    "    list2 = sorted(list1)\n",
    "    print(list2)\n",
    "    return list2[-1]\n",
    "\n",
    "if __name__ == \"__main__\":\n",
    "    print('Enter a list of numbers to find the largest number among them: ')\n",
    "    list1 = [int(x) for x in input().split()]\n",
    "    res = find_greatest(list1)\n",
    "    print(f'The largest number in the list of {list1} is : {res}')"
   ]
  },
  {
   "cell_type": "code",
   "execution_count": 16,
   "id": "64ad2da8",
   "metadata": {},
   "outputs": [
    {
     "name": "stdout",
     "output_type": "stream",
     "text": [
      "Enter a number : 30\n",
      "1\n",
      "2\n",
      "Fizz\n",
      "4\n",
      "Buzz\n",
      "Fizz\n",
      "7\n",
      "8\n",
      "Fizz\n",
      "Buzz\n",
      "11\n",
      "Fizz\n",
      "13\n",
      "14\n",
      "FizzBuzz\n",
      "16\n",
      "17\n",
      "Fizz\n",
      "19\n",
      "Buzz\n",
      "Fizz\n",
      "22\n",
      "23\n",
      "Fizz\n",
      "Buzz\n",
      "26\n",
      "Fizz\n",
      "28\n",
      "29\n",
      "FizzBuzz\n"
     ]
    }
   ],
   "source": [
    "#Loop Through\n",
    "def loop_through(num):\n",
    "    for i in range(1,num+1):\n",
    "        if (i % 3 == 0) & (i % 5 == 0):\n",
    "            print('FizzBuzz')\n",
    "        elif i % 5 == 0:\n",
    "            print('Buzz')\n",
    "        elif i % 3 == 0:\n",
    "            print('Fizz')\n",
    "        else:\n",
    "            print(i)\n",
    "\n",
    "if __name__ == '__main__':\n",
    "    num = int(input('Enter a number : '))\n",
    "    loop_through(num)"
   ]
  },
  {
   "cell_type": "code",
   "execution_count": null,
   "id": "7df6113c",
   "metadata": {},
   "outputs": [],
   "source": []
  }
 ],
 "metadata": {
  "kernelspec": {
   "display_name": "Python 3",
   "language": "python",
   "name": "python3"
  },
  "language_info": {
   "codemirror_mode": {
    "name": "ipython",
    "version": 3
   },
   "file_extension": ".py",
   "mimetype": "text/x-python",
   "name": "python",
   "nbconvert_exporter": "python",
   "pygments_lexer": "ipython3",
   "version": "3.7.9"
  }
 },
 "nbformat": 4,
 "nbformat_minor": 5
}
